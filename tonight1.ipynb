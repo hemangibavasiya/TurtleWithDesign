{
 "cells": [
  {
   "cell_type": "code",
   "execution_count": 31,
   "metadata": {},
   "outputs": [],
   "source": [
    "from turtle import *\n",
    "def curve():\n",
    "    for i in range(200):\n",
    "  \n",
    "        \n",
    "        right(1)\n",
    "        forward(1)\n",
    "title(\"Title Text\")\n",
    "speed(2)\n",
    "color('white')\n",
    "goto(-350, -0)\n",
    "color(\"red\", \"pink\")\n",
    "goto(0, 0)\n",
    "\n",
    "begin_fill()\n",
    "left(140)\n",
    "forward(113)\n",
    "curve()\n",
    "left(120)\n",
    "curve()\n",
    "forward(112)    \n",
    "end_fill()\n",
    "color('pink')\n",
    "goto(1, 75)\n",
    "color('deep pink')\n",
    "write(\"Name\", False, align=\"center\", font=('Courier', 20, 'italic', \"bold\"))\n",
    "color('pink')\n",
    "goto(-0, -0)\n",
    "color('white')\n",
    "goto(-1, -100)\n",
    "color('deep pink')\n",
    "write(\"Text\", True, align=\"center\", font=('Courier', 20, 'italic'))\n",
    "hideturtle()\n",
    "done()\n",
    "\n"
   ]
  }
 ],
 "metadata": {
  "interpreter": {
   "hash": "96d03656cf9afff83b3a95e2bab494a7afe954f209d39418d5648424aa0ff4cf"
  },
  "kernelspec": {
   "display_name": "Python 3.10.0 64-bit",
   "language": "python",
   "name": "python3"
  },
  "language_info": {
   "codemirror_mode": {
    "name": "ipython",
    "version": 3
   },
   "file_extension": ".py",
   "mimetype": "text/x-python",
   "name": "python",
   "nbconvert_exporter": "python",
   "pygments_lexer": "ipython3",
   "version": "3.10.0"
  },
  "orig_nbformat": 4
 },
 "nbformat": 4,
 "nbformat_minor": 2
}
